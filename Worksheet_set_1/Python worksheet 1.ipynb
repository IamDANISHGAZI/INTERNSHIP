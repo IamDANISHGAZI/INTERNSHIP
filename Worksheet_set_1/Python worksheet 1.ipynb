{
 "cells": [
  {
   "cell_type": "raw",
   "id": "5098c5dd",
   "metadata": {},
   "source": [
    "Question1 \n",
    "Answer (c)"
   ]
  },
  {
   "cell_type": "raw",
   "id": "53e694df",
   "metadata": {},
   "source": [
    "Question 2\n",
    "Answer (B)"
   ]
  },
  {
   "cell_type": "raw",
   "id": "747b9b39",
   "metadata": {},
   "source": [
    "Question 3\n",
    "Answer (C)"
   ]
  },
  {
   "cell_type": "raw",
   "id": "707832ab",
   "metadata": {},
   "source": [
    "Question 4\n",
    "Answer (A)"
   ]
  },
  {
   "cell_type": "raw",
   "id": "fdf72735",
   "metadata": {},
   "source": [
    "Question 5\n",
    "Answer (D)"
   ]
  },
  {
   "cell_type": "raw",
   "id": "614fb990",
   "metadata": {},
   "source": [
    "Question 6\n",
    "Answer (C)"
   ]
  },
  {
   "cell_type": "raw",
   "id": "1572af92",
   "metadata": {},
   "source": [
    "Question 7\n",
    "Answer (A)"
   ]
  },
  {
   "cell_type": "raw",
   "id": "01ef0bcc",
   "metadata": {},
   "source": [
    "Question 8\n",
    "Answer (C)"
   ]
  },
  {
   "cell_type": "raw",
   "id": "b5fd4186",
   "metadata": {},
   "source": [
    "Question 9\n",
    "Answer (A),(C)"
   ]
  },
  {
   "cell_type": "raw",
   "id": "b8136588",
   "metadata": {},
   "source": [
    "Question 10\n",
    "Answer (A),(B)"
   ]
  },
  {
   "cell_type": "code",
   "execution_count": 21,
   "id": "e6f9e373",
   "metadata": {},
   "outputs": [
    {
     "name": "stdout",
     "output_type": "stream",
     "text": [
      "the Factorial of number is 15511210043330985984000000\n"
     ]
    }
   ],
   "source": [
    "# Question 11\n",
    "# Answer\n",
    "\n",
    "x=25\n",
    "fact=1\n",
    "for i in range(1,x+1):\n",
    "    fact=fact*i\n",
    "print('the Factorial of number is',fact)"
   ]
  },
  {
   "cell_type": "code",
   "execution_count": 36,
   "id": "d7e510b2",
   "metadata": {},
   "outputs": [
    {
     "name": "stdout",
     "output_type": "stream",
     "text": [
      "Enter the number 12\n",
      "Number is composite\n"
     ]
    }
   ],
   "source": [
    "# Question 12\n",
    "# Answer\n",
    "\n",
    "n=int(input(\"Enter the number \"))\n",
    "for i in range(2,n):\n",
    "    if n%i==0:\n",
    "        print('Number is composite')\n",
    "        break\n",
    "    else:\n",
    "        print('Number is prime')\n",
    "        break\n",
    "            "
   ]
  },
  {
   "cell_type": "code",
   "execution_count": 40,
   "id": "2b42a548",
   "metadata": {},
   "outputs": [
    {
     "name": "stdout",
     "output_type": "stream",
     "text": [
      "Enter Text Tata\n",
      "Not Palindrome\n"
     ]
    }
   ],
   "source": [
    "# Question 13\n",
    "# Answer 13\n",
    "\n",
    "string=str(input(\"Enter Text \"))\n",
    "string=string.casefold()\n",
    "rev=reversed(string)\n",
    "if list(string)==list(rev):\n",
    "    print('Palindrome')\n",
    "else:\n",
    "    print('Not Palindrome')"
   ]
  },
  {
   "cell_type": "code",
   "execution_count": 50,
   "id": "3e4885a1",
   "metadata": {},
   "outputs": [],
   "source": [
    "# Question 14\n",
    "# Answer 14\n",
    "\n",
    "import math\n",
    "\n",
    "def Thirdsideoftriangle(width,height):\n",
    "    c=math.sqrt((width*width)+(height*height))\n",
    "    print('The 3rd side of triangle is' ,c)"
   ]
  },
  {
   "cell_type": "code",
   "execution_count": 51,
   "id": "bc69c8ce",
   "metadata": {},
   "outputs": [
    {
     "name": "stdout",
     "output_type": "stream",
     "text": [
      "Enter first side25\n",
      "Enter second side55\n",
      "The 3rd side of triangle is 60.41522986797286\n"
     ]
    }
   ],
   "source": [
    "width=int(input('Enter first side'))\n",
    "height=int(input('Enter second side'))\n",
    "Thirdsideoftriangle(width,height)"
   ]
  },
  {
   "cell_type": "code",
   "execution_count": 56,
   "id": "cc8640b4",
   "metadata": {},
   "outputs": [
    {
     "name": "stdout",
     "output_type": "stream",
     "text": [
      "Enter StringMumbai\n",
      "Count of all characters in mumbai  is :\n",
      "  {'m': 2, 'u': 1, 'b': 1, 'a': 1, 'i': 1}\n"
     ]
    }
   ],
   "source": [
    "# Question 15\n",
    "# Answer 15\n",
    "\n",
    "givenstring = str(input(\"Enter String\"))\n",
    "givenstring=givenstring.casefold()\n",
    "freq = {}\n",
    "for i in givenstring:\n",
    "    if i in freq:\n",
    "        freq[i] += 1\n",
    "    else:\n",
    "        freq[i] = 1\n",
    "print (\"Count of all characters in\", givenstring,\" is :\\n \",str(freq))"
   ]
  },
  {
   "cell_type": "code",
   "execution_count": null,
   "id": "32b5f536",
   "metadata": {},
   "outputs": [],
   "source": []
  },
  {
   "cell_type": "code",
   "execution_count": null,
   "id": "d3afea97",
   "metadata": {},
   "outputs": [],
   "source": []
  },
  {
   "cell_type": "code",
   "execution_count": null,
   "id": "1b87aa75",
   "metadata": {},
   "outputs": [],
   "source": [
    "\n"
   ]
  },
  {
   "cell_type": "code",
   "execution_count": null,
   "id": "65b67da2",
   "metadata": {},
   "outputs": [],
   "source": []
  },
  {
   "cell_type": "code",
   "execution_count": null,
   "id": "3bd760dc",
   "metadata": {},
   "outputs": [],
   "source": []
  },
  {
   "cell_type": "code",
   "execution_count": null,
   "id": "d80d5618",
   "metadata": {},
   "outputs": [],
   "source": []
  },
  {
   "cell_type": "code",
   "execution_count": null,
   "id": "b9e1b02c",
   "metadata": {},
   "outputs": [],
   "source": []
  },
  {
   "cell_type": "code",
   "execution_count": null,
   "id": "2824097e",
   "metadata": {},
   "outputs": [],
   "source": []
  },
  {
   "cell_type": "code",
   "execution_count": null,
   "id": "a58743f8",
   "metadata": {},
   "outputs": [],
   "source": []
  }
 ],
 "metadata": {
  "kernelspec": {
   "display_name": "Python 3 (ipykernel)",
   "language": "python",
   "name": "python3"
  },
  "language_info": {
   "codemirror_mode": {
    "name": "ipython",
    "version": 3
   },
   "file_extension": ".py",
   "mimetype": "text/x-python",
   "name": "python",
   "nbconvert_exporter": "python",
   "pygments_lexer": "ipython3",
   "version": "3.9.12"
  }
 },
 "nbformat": 4,
 "nbformat_minor": 5
}
